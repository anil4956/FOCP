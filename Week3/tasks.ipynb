{
 "cells": [
  {
   "cell_type": "code",
   "execution_count": 64,
   "metadata": {},
   "outputs": [
    {
     "name": "stdout",
     "output_type": "stream",
     "text": [
      "False\n",
      "True\n",
      "True\n"
     ]
    }
   ],
   "source": [
    "age = 19\n",
    "print(age < 18)\n",
    "print(age < 21)\n",
    "print(age < 31)"
   ]
  },
  {
   "cell_type": "code",
   "execution_count": 65,
   "metadata": {},
   "outputs": [
    {
     "name": "stdout",
     "output_type": "stream",
     "text": [
      "True\n",
      "False\n",
      "True\n",
      "\n"
     ]
    }
   ],
   "source": [
    "print(\"a\" < \"b\")\n",
    "print(\"b\" < \"a\")\n",
    "print(\"John\" < \"Terry\")\n",
    "print()"
   ]
  },
  {
   "cell_type": "code",
   "execution_count": 66,
   "metadata": {},
   "outputs": [
    {
     "name": "stdout",
     "output_type": "stream",
     "text": [
      "True\n",
      "False\n",
      "False\n",
      "\n"
     ]
    }
   ],
   "source": [
    "print(\"a\" < \"b\")\n",
    "print(\"b\" < \"a\")\n",
    "print(\"john\" < \"Terry\")\n",
    "print()"
   ]
  },
  {
   "cell_type": "code",
   "execution_count": 67,
   "metadata": {},
   "outputs": [
    {
     "name": "stdout",
     "output_type": "stream",
     "text": [
      "True False False\n",
      "False\n"
     ]
    }
   ],
   "source": [
    "age = 30\n",
    "\n",
    "x= (age >=18 and age <=65) #T\n",
    "y= (age <18 or age >65) #F\n",
    "z= (not age > 18) #F\n",
    "print(x,y,z)\n",
    " \n",
    "p= (age >= 18 and age <= 65) and (not age == 30) #F\n",
    "print(p)"
   ]
  },
  {
   "cell_type": "code",
   "execution_count": 68,
   "metadata": {},
   "outputs": [
    {
     "name": "stdout",
     "output_type": "stream",
     "text": [
      "True\n",
      "True\n"
     ]
    }
   ],
   "source": [
    "weight = 150\n",
    "height = 140\n",
    "\n",
    "print(100 < weight < 200)\n",
    "print(131 < height < 160)"
   ]
  },
  {
   "cell_type": "code",
   "execution_count": 69,
   "metadata": {},
   "outputs": [
    {
     "name": "stdout",
     "output_type": "stream",
     "text": [
      "you are still young!\n"
     ]
    }
   ],
   "source": [
    "age = 25\n",
    "if 18 <= age <= 30:\n",
    "    print(\"you are still young!\")"
   ]
  },
  {
   "cell_type": "code",
   "execution_count": 70,
   "metadata": {},
   "outputs": [
    {
     "name": "stdout",
     "output_type": "stream",
     "text": [
      "you are getting older!\n"
     ]
    }
   ],
   "source": [
    "age = 35\n",
    "if 18 <= age <= 30:\n",
    "    print(\"you are still young!\")\n",
    "elif 30 < age <= 40:\n",
    "    print(\"you are getting older!\")"
   ]
  },
  {
   "cell_type": "code",
   "execution_count": 71,
   "metadata": {},
   "outputs": [
    {
     "name": "stdout",
     "output_type": "stream",
     "text": [
      "Anil\n",
      "Rabi\n",
      "Shashank\n",
      "Sumit\n"
     ]
    }
   ],
   "source": [
    "names = [\"Anil\", \"Rabi\", \"Shashank\", \"Sumit\"]\n",
    "for name in names:\n",
    "    print(name)"
   ]
  },
  {
   "cell_type": "code",
   "execution_count": 72,
   "metadata": {},
   "outputs": [
    {
     "name": "stdout",
     "output_type": "stream",
     "text": [
      "2 to the power of 2 = 4\n",
      "4 to the power of 4 = 256\n",
      "6 to the power of 6 = 46656\n",
      "8 to the power of 8 = 16777216\n",
      "10 to the power of 10 = 10000000000\n"
     ]
    }
   ],
   "source": [
    "for x in range(2, 11, 2):\n",
    "    print(str(x) + \" to the power of \" + str(x) + \" = \" + str(x**x))"
   ]
  },
  {
   "cell_type": "code",
   "execution_count": 73,
   "metadata": {},
   "outputs": [
    {
     "name": "stdout",
     "output_type": "stream",
     "text": [
      "10\n",
      "30\n",
      "60\n",
      "150\n",
      "350\n",
      "380\n",
      "402\n",
      "413\n"
     ]
    }
   ],
   "source": [
    "numbers = [10, 20, 30, 90, 200, 30, 22, 11]\n",
    "total = 0\n",
    "for num in numbers:\n",
    "    total = total + num\n",
    "    print(total)"
   ]
  },
  {
   "cell_type": "code",
   "execution_count": 74,
   "metadata": {},
   "outputs": [
    {
     "name": "stdout",
     "output_type": "stream",
     "text": [
      "10\n",
      "30\n",
      "60\n",
      "150\n"
     ]
    }
   ],
   "source": [
    "numbers = [10, 20, 30, 90, 200, 30, 22, 11]\n",
    "total = 0\n",
    "for num in numbers:\n",
    "    total = total + num\n",
    "    print(total)\n",
    "    if total > 100:\n",
    "        break"
   ]
  },
  {
   "cell_type": "code",
   "execution_count": 75,
   "metadata": {},
   "outputs": [
    {
     "name": "stdout",
     "output_type": "stream",
     "text": [
      "10\n",
      "30\n",
      "60\n",
      "150\n"
     ]
    }
   ],
   "source": [
    "numbers = [10, 20, 30, 90, 200, 30, 22, 11]\n",
    "total = 0\n",
    "for num in numbers:\n",
    "    total = total + num\n",
    "    print(total)\n",
    "    if total > 100:\n",
    "        break\n",
    "else:\n",
    "    print(\"all numbers processed\")"
   ]
  }
 ],
 "metadata": {
  "kernelspec": {
   "display_name": "Python 3.10.8 64-bit (microsoft store)",
   "language": "python",
   "name": "python3"
  },
  "language_info": {
   "codemirror_mode": {
    "name": "ipython",
    "version": 3
   },
   "file_extension": ".py",
   "mimetype": "text/x-python",
   "name": "python",
   "nbconvert_exporter": "python",
   "pygments_lexer": "ipython3",
   "version": "3.10.8"
  },
  "orig_nbformat": 4,
  "vscode": {
   "interpreter": {
    "hash": "2765c5c551899afcd764bd4512ee46c7410f82b6e5d4de2031a4dd66c53b142a"
   }
  }
 },
 "nbformat": 4,
 "nbformat_minor": 2
}
